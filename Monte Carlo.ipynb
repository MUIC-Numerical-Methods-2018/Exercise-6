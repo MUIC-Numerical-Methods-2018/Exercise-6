{
 "cells": [
  {
   "cell_type": "markdown",
   "metadata": {},
   "source": [
    "## Pseudo Random Number Generator\n",
    "\n",
    "Let us learn about how to generate a random number."
   ]
  },
  {
   "cell_type": "code",
   "execution_count": 12,
   "metadata": {
    "ExecuteTime": {
     "end_time": "2021-02-19T06:13:57.846612Z",
     "start_time": "2021-02-19T06:13:57.631644Z"
    }
   },
   "outputs": [],
   "source": [
    "%matplotlib inline\n",
    "from matplotlib import pyplot as plt\n",
    "import numpy as np\n",
    "import math"
   ]
  },
  {
   "cell_type": "markdown",
   "metadata": {},
   "source": [
    "#### 1) Linear Congruent\n",
    "One of the easiest way to make random number is using linear congruential.\n",
    "\n",
    "$$x_{n+1} = a x_{n} + b \\mod k$$\n",
    "\n",
    "pick a random $a$ and $b$ then try."
   ]
  },
  {
   "cell_type": "code",
   "execution_count": 10,
   "metadata": {
    "ExecuteTime": {
     "end_time": "2021-02-19T06:08:22.490830Z",
     "start_time": "2021-02-19T06:08:22.478677Z"
    }
   },
   "outputs": [
    {
     "name": "stdout",
     "output_type": "stream",
     "text": [
      "9\n",
      "6\n",
      "3\n",
      "0\n",
      "8\n",
      "5\n",
      "2\n",
      "10\n",
      "7\n",
      "4\n",
      "1\n",
      "9\n",
      "6\n",
      "3\n",
      "0\n",
      "8\n",
      "5\n",
      "2\n",
      "10\n",
      "7\n",
      "4\n",
      "1\n",
      "9\n",
      "6\n",
      "3\n",
      "0\n",
      "8\n",
      "5\n",
      "2\n",
      "10\n",
      "7\n",
      "4\n",
      "1\n",
      "9\n",
      "6\n",
      "3\n",
      "0\n",
      "8\n",
      "5\n",
      "2\n",
      "10\n",
      "7\n",
      "4\n",
      "1\n",
      "9\n",
      "6\n",
      "3\n",
      "0\n",
      "8\n",
      "5\n",
      "2\n",
      "10\n",
      "7\n",
      "4\n",
      "1\n",
      "9\n",
      "6\n",
      "3\n",
      "0\n",
      "8\n",
      "5\n",
      "2\n",
      "10\n",
      "7\n",
      "4\n",
      "1\n",
      "9\n",
      "6\n",
      "3\n",
      "0\n",
      "8\n",
      "5\n",
      "2\n",
      "10\n",
      "7\n",
      "4\n",
      "1\n",
      "9\n",
      "6\n",
      "3\n",
      "0\n",
      "8\n",
      "5\n",
      "2\n",
      "10\n",
      "7\n",
      "4\n",
      "1\n",
      "9\n",
      "6\n",
      "3\n",
      "0\n",
      "8\n",
      "5\n",
      "2\n",
      "10\n",
      "7\n",
      "4\n",
      "1\n",
      "9\n"
     ]
    }
   ],
   "source": [
    "x= 111\n",
    "a = 32231\n",
    "b = 921\n",
    "k = 11\n",
    "for i in range(100):\n",
    "    x = (a * x + b) % k\n",
    "    print(x)\n",
    "    \n",
    "np.seed(1234)"
   ]
  },
  {
   "cell_type": "markdown",
   "metadata": {},
   "source": [
    "#### 2) Cycle Problem\n",
    "\n",
    "One of the problem with linear congruent is short cycle length. For example,\n",
    "\n",
    "$$x_{n+1} =  ax_{n} + b \\mod 11$$\n",
    "\n",
    "No matter what value you give $a$ and $b$. Your cycle length will be at most 11."
   ]
  },
  {
   "cell_type": "code",
   "execution_count": null,
   "metadata": {
    "collapsed": true
   },
   "outputs": [],
   "source": []
  },
  {
   "cell_type": "markdown",
   "metadata": {},
   "source": [
    "#### 3) Fixing Cycle problem\n",
    "\n",
    "One way to do it is to generate it with a better cycle and then mod 11."
   ]
  },
  {
   "cell_type": "code",
   "execution_count": null,
   "metadata": {
    "collapsed": true
   },
   "outputs": [],
   "source": []
  },
  {
   "cell_type": "markdown",
   "metadata": {},
   "source": [
    "#### 4) Some available random number from numpy/python\n",
    "\n",
    "`np.random.random` for random a float uniformly between 0 and 1.\n",
    "\n",
    "`np.random.randint` for random integer uniformly in some range.\n",
    "\n",
    "`np.random.randn` for random float from normal distribution with mean 0 and standard deviation 1."
   ]
  },
  {
   "cell_type": "code",
   "execution_count": 15,
   "metadata": {
    "ExecuteTime": {
     "end_time": "2021-02-19T06:14:24.640593Z",
     "start_time": "2021-02-19T06:14:24.490907Z"
    }
   },
   "outputs": [
    {
     "data": {
      "text/plain": [
       "(array([ 9977.,  9955.,  9879.,  9892., 10122., 10083., 10166., 10099.,\n",
       "         9980.,  9847.]),\n",
       " array([3.47912717e-06, 1.00003094e-01, 2.00002710e-01, 3.00002325e-01,\n",
       "        4.00001940e-01, 5.00001555e-01, 6.00001171e-01, 7.00000786e-01,\n",
       "        8.00000401e-01, 9.00000016e-01, 9.99999632e-01]),\n",
       " <BarContainer object of 10 artists>)"
      ]
     },
     "execution_count": 15,
     "metadata": {},
     "output_type": "execute_result"
    },
    {
     "data": {
      "image/png": "[encoded data removed]",
      "text/plain": [
       "<Figure size 432x288 with 1 Axes>"
      ]
     },
     "metadata": {
      "image/png": {
       "height": 248,
       "width": 388
      },
      "needs_background": "light"
     },
     "output_type": "display_data"
    }
   ],
   "source": [
    "import numpy as np\n",
    "\n",
    "data = np.random.random(100000)\n",
    "\n",
    "plt.hist(data, bins=10)\n"
   ]
  },
  {
   "cell_type": "markdown",
   "metadata": {},
   "source": [
    "#### 5) Manipulating random number to get desired behavior.\n",
    "\n",
    "Random a float from 0 to 5.\n",
    "\n",
    "Random a float from -1 to 1.\n",
    "\n",
    "Random a float form normal distribution with mean 5 and std dev 1.\n",
    "\n",
    "Random a float form normal distribution with mean 2 and std dev 10."
   ]
  },
  {
   "cell_type": "code",
   "execution_count": 22,
   "metadata": {
    "ExecuteTime": {
     "end_time": "2021-02-19T06:18:31.265530Z",
     "start_time": "2021-02-19T06:18:31.102675Z"
    }
   },
   "outputs": [
    {
     "name": "stdout",
     "output_type": "stream",
     "text": [
      "1.9957769207000904 10.012296833508758\n"
     ]
    },
    {
     "data": {
      "image/png": "[encoded data removed]",
      "text/plain": [
       "<Figure size 432x288 with 1 Axes>"
      ]
     },
     "metadata": {
      "image/png": {
       "height": 248,
       "width": 388
      },
      "needs_background": "light"
     },
     "output_type": "display_data"
    }
   ],
   "source": [
    "\n",
    "#data = np.random.random(100000)*2 - 1\n",
    "\n",
    "data = np.random.randn(100000)*10 + 2\n",
    "\n",
    "plt.hist(data, bins=30)\n",
    "print(np.mean(data), np.std(data))"
   ]
  },
  {
   "cell_type": "markdown",
   "metadata": {},
   "source": [
    "6) What does np.random.seed do?"
   ]
  },
  {
   "cell_type": "code",
   "execution_count": null,
   "metadata": {},
   "outputs": [],
   "source": []
  },
  {
   "cell_type": "markdown",
   "metadata": {},
   "source": [
    "### Monte Carlo Integration"
   ]
  },
  {
   "cell_type": "code",
   "execution_count": 37,
   "metadata": {
    "ExecuteTime": {
     "end_time": "2021-02-19T06:33:48.865914Z",
     "start_time": "2021-02-19T06:33:47.591942Z"
    }
   },
   "outputs": [
    {
     "data": {
      "text/plain": [
       "3.142184"
      ]
     },
     "execution_count": 37,
     "metadata": {},
     "output_type": "execute_result"
    }
   ],
   "source": [
    "def gen_point():\n",
    "    x = np.random.random()*2 - 1\n",
    "    y = np.random.random()*2 - 1\n",
    "    return x, y\n",
    "\n",
    "def is_in_circle(x, y):\n",
    "    return x**2 + y**2 < 1\n",
    "\n",
    "def circle_area(n):\n",
    "    n_in_circle = 0\n",
    "    for i in range(n):\n",
    "        x, y = gen_point()\n",
    "        if is_in_circle(x, y):\n",
    "            n_in_circle += 1\n",
    "    square_area = 2**2\n",
    "    return n_in_circle/n * square_area\n",
    "\n",
    "circle_area(1000000)"
   ]
  },
  {
   "cell_type": "markdown",
   "metadata": {},
   "source": [
    "#### 1) Let integrate\n",
    "$$ \\iiint \\limits_{C} x^2(y-1)^2(z-2)^2\\exp(xyz) \\; dx \\; dy \\; dz$$\n",
    "Over a cube $x \\in [-1,1], y\\in [-1,1], z\\in [-1,1]$"
   ]
  },
  {
   "cell_type": "code",
   "execution_count": 47,
   "metadata": {
    "ExecuteTime": {
     "end_time": "2021-02-19T06:54:40.491330Z",
     "start_time": "2021-02-19T06:54:40.167845Z"
    }
   },
   "outputs": [
    {
     "data": {
      "text/plain": [
       "15.987446702814003"
      ]
     },
     "execution_count": 47,
     "metadata": {},
     "output_type": "execute_result"
    }
   ],
   "source": [
    "def f(x, y, z):\n",
    "    return x**2*(y-1)**2*(z-2)**2*np.exp(x*y*z)\n",
    "\n",
    "def gen_point():\n",
    "    x = np.random.random()*2 - 1\n",
    "    y = np.random.random()*2 - 1\n",
    "    z = np.random.random()*2 - 1\n",
    "    return x, y, z\n",
    "\n",
    "def integrate(n):\n",
    "    s = 0\n",
    "    for i in range(n):\n",
    "        x, y, z = gen_point()\n",
    "        s+= f(x,y,z)\n",
    "    return s * 2**3 / n\n",
    "\n",
    "integrate(100000)"
   ]
  },
  {
   "cell_type": "markdown",
   "metadata": {},
   "source": [
    "#### 2) Evaluate\n",
    "$$ \\iiint \\limits_{C} x^2(y-1)^2(z-2)^2\\exp(xyz) \\; dx \\; dy \\; dz$$\n",
    "Over a sphere of radius 1 centered at the origin."
   ]
  },
  {
   "cell_type": "code",
   "execution_count": 48,
   "metadata": {
    "ExecuteTime": {
     "end_time": "2021-02-19T06:56:49.629318Z",
     "start_time": "2021-02-19T06:56:49.335941Z"
    }
   },
   "outputs": [
    {
     "data": {
      "text/plain": [
       "4.00962611684942"
      ]
     },
     "execution_count": 48,
     "metadata": {},
     "output_type": "execute_result"
    }
   ],
   "source": [
    "def f(x, y, z):\n",
    "    return x**2*(y-1)**2*(z-2)**2*np.exp(x*y*z)\n",
    "\n",
    "def gen_point():\n",
    "    x = np.random.random()*2 - 1\n",
    "    y = np.random.random()*2 - 1\n",
    "    z = np.random.random()*2 - 1\n",
    "    return x, y, z\n",
    "\n",
    "def is_in_circle(x, y, z):\n",
    "    return x**2 + y**2 + z**2 < 1\n",
    "\n",
    "def integrate(n):\n",
    "    s = 0\n",
    "    for i in range(n):\n",
    "        x, y, z = gen_point()\n",
    "        if is_in_circle(x, y, z):\n",
    "            s+= f(x,y,z)\n",
    "    return s * 2**3 / n\n",
    "\n",
    "integrate(100000)"
   ]
  },
  {
   "cell_type": "markdown",
   "metadata": {},
   "source": [
    "3) Do we guarantee to get the same answer when we repeat the experiment?"
   ]
  },
  {
   "cell_type": "code",
   "execution_count": null,
   "metadata": {
    "collapsed": true
   },
   "outputs": [],
   "source": []
  },
  {
   "cell_type": "markdown",
   "metadata": {},
   "source": [
    "4) What do we need to do to guarantee the same answer?"
   ]
  },
  {
   "cell_type": "code",
   "execution_count": null,
   "metadata": {},
   "outputs": [],
   "source": []
  },
  {
   "cell_type": "markdown",
   "metadata": {},
   "source": [
    "5) How do we defind the convergence and how fast is the convergence for monte carlo integration?"
   ]
  },
  {
   "cell_type": "code",
   "execution_count": null,
   "metadata": {
    "collapsed": true
   },
   "outputs": [],
   "source": []
  },
  {
   "cell_type": "markdown",
   "metadata": {},
   "source": [
    "## Monte Carlo Simulations"
   ]
  },
  {
   "cell_type": "markdown",
   "metadata": {},
   "source": [
    "### Loaded Die.\n",
    "\n",
    "<table>\n",
    "<tr style=\"text-align:center\">\n",
    "    <td>Number</td>\n",
    "    <td>1</td>\n",
    "    <td>2</td>\n",
    "    <td>3</td>\n",
    "    <td>4</td>\n",
    "    <td>5</td>\n",
    "    <td>6</td>\n",
    "</tr>\n",
    "<tr style=\"text-align:center\">\n",
    "    <td>Probability</td>\n",
    "    <td>0.3</td>\n",
    "    <td>0.2</td>\n",
    "    <td>0.1</td>\n",
    "    <td>0.2</td>\n",
    "    <td>0.1</td>\n",
    "    <td>0.1</td>\n",
    "</tr>\n",
    "</table>"
   ]
  },
  {
   "cell_type": "markdown",
   "metadata": {},
   "source": [
    "#### 1) Simulating the dice.\n",
    "\n",
    "Simulate the dice result such that it has the given probability distribution."
   ]
  },
  {
   "cell_type": "code",
   "execution_count": 54,
   "metadata": {
    "ExecuteTime": {
     "end_time": "2021-02-19T07:06:39.538797Z",
     "start_time": "2021-02-19T07:06:39.332810Z"
    }
   },
   "outputs": [
    {
     "data": {
      "text/plain": [
       "(array([3040.,    0.,    0.,    0., 1969.,    0.,    0.,    0., 1023.,\n",
       "           0.,    0.,    0., 2007.,    0.,    0.,    0.,  937.,    0.,\n",
       "           0., 1024.]),\n",
       " array([1.  , 1.25, 1.5 , 1.75, 2.  , 2.25, 2.5 , 2.75, 3.  , 3.25, 3.5 ,\n",
       "        3.75, 4.  , 4.25, 4.5 , 4.75, 5.  , 5.25, 5.5 , 5.75, 6.  ]),\n",
       " <BarContainer object of 20 artists>)"
      ]
     },
     "execution_count": 54,
     "metadata": {},
     "output_type": "execute_result"
    },
    {
     "data": {
      "image/png": "[encoded data removed]",
      "text/plain": [
       "<Figure size 432x288 with 1 Axes>"
      ]
     },
     "metadata": {
      "image/png": {
       "height": 248,
       "width": 381
      },
      "needs_background": "light"
     },
     "output_type": "display_data"
    }
   ],
   "source": [
    "def gacha():\n",
    "    x = np.random.random()\n",
    "    if x < 0.3:\n",
    "        return 1\n",
    "    elif x < 0.5:\n",
    "        return 2\n",
    "    elif x < 0.6:\n",
    "        return 3\n",
    "    elif x < 0.8:\n",
    "        return 4\n",
    "    elif x < 0.9:\n",
    "        return 5\n",
    "    else:\n",
    "        return 6\n",
    "\n",
    "    \n",
    "gachas = [gacha() for i in range(10000)]\n",
    "plt.hist(gachas, bins=20)"
   ]
  },
  {
   "cell_type": "markdown",
   "metadata": {},
   "source": [
    "#### 2) Expected Value.\n",
    "\n",
    "What is the expected value of dice result? Try both simulation and analytical formula."
   ]
  },
  {
   "cell_type": "code",
   "execution_count": 55,
   "metadata": {
    "ExecuteTime": {
     "end_time": "2021-02-19T07:10:22.114085Z",
     "start_time": "2021-02-19T07:10:22.087562Z"
    }
   },
   "outputs": [
    {
     "data": {
      "text/plain": [
       "2.8977"
      ]
     },
     "execution_count": 55,
     "metadata": {},
     "output_type": "execute_result"
    }
   ],
   "source": [
    "np.mean([gacha() for i in range(10000)])"
   ]
  },
  {
   "cell_type": "markdown",
   "metadata": {},
   "source": [
    "3) What is the expected value of $A+B$ where $A$ is the result of the first dice and $B$ is the result of the second dice? Use simulation and compare with analytic answer."
   ]
  },
  {
   "cell_type": "code",
   "execution_count": 56,
   "metadata": {
    "ExecuteTime": {
     "end_time": "2021-02-19T07:12:02.006423Z",
     "start_time": "2021-02-19T07:12:01.972439Z"
    }
   },
   "outputs": [
    {
     "data": {
      "text/plain": [
       "5.8308"
      ]
     },
     "execution_count": 56,
     "metadata": {},
     "output_type": "execute_result"
    }
   ],
   "source": [
    "np.mean([gacha() + gacha() for i in range(10000)])"
   ]
  },
  {
   "cell_type": "markdown",
   "metadata": {},
   "source": [
    "4) What is the expected value of $AB$?"
   ]
  },
  {
   "cell_type": "code",
   "execution_count": 59,
   "metadata": {
    "ExecuteTime": {
     "end_time": "2021-02-19T07:14:57.735662Z",
     "start_time": "2021-02-19T07:14:57.703684Z"
    }
   },
   "outputs": [
    {
     "data": {
      "text/plain": [
       "8.5364"
      ]
     },
     "execution_count": 59,
     "metadata": {},
     "output_type": "execute_result"
    }
   ],
   "source": [
    "np.mean([gacha()* gacha() for i in range(10000)])"
   ]
  },
  {
   "cell_type": "markdown",
   "metadata": {},
   "source": [
    "5) Try the experiment 10,000 times and plot out the probability of getting each result for $AB$. (Probability is given by #of times we get the number/total number of experiment."
   ]
  },
  {
   "cell_type": "code",
   "execution_count": 62,
   "metadata": {
    "ExecuteTime": {
     "end_time": "2021-02-19T07:17:13.558025Z",
     "start_time": "2021-02-19T07:17:13.308412Z"
    }
   },
   "outputs": [
    {
     "data": {
      "text/plain": [
       "(array([ 871., 1219.,  601.,    0., 1598.,  569.,    0., 1060.,    0.,\n",
       "           0.,  767.,  110.,  420.,    0.,    0.,  805.,    0.,    0.,\n",
       "           0.,    0.,  193.,  414.,    0.,    0.,  209.,    0.,    0.,\n",
       "         374.,    0.,    0.,    0.,    0.,  382.,    0.,  110.,    0.,\n",
       "           0.,    0.,    0.,    0.,    0.,  202.,    0.,    0.,    0.,\n",
       "           0.,    0.,    0.,    0.,   96.]),\n",
       " array([ 1. ,  1.7,  2.4,  3.1,  3.8,  4.5,  5.2,  5.9,  6.6,  7.3,  8. ,\n",
       "         8.7,  9.4, 10.1, 10.8, 11.5, 12.2, 12.9, 13.6, 14.3, 15. , 15.7,\n",
       "        16.4, 17.1, 17.8, 18.5, 19.2, 19.9, 20.6, 21.3, 22. , 22.7, 23.4,\n",
       "        24.1, 24.8, 25.5, 26.2, 26.9, 27.6, 28.3, 29. , 29.7, 30.4, 31.1,\n",
       "        31.8, 32.5, 33.2, 33.9, 34.6, 35.3, 36. ]),\n",
       " <BarContainer object of 50 artists>)"
      ]
     },
     "execution_count": 62,
     "metadata": {},
     "output_type": "execute_result"
    },
    {
     "data": {
      "image/png": "[encoded data removed]",
      "text/plain": [
       "<Figure size 432x288 with 1 Axes>"
      ]
     },
     "metadata": {
      "image/png": {
       "height": 248,
       "width": 381
      },
      "needs_background": "light"
     },
     "output_type": "display_data"
    }
   ],
   "source": [
    "gp = [gacha()* gacha() for i in range(10000)]\n",
    "plt.hist(gp, bins=50)"
   ]
  },
  {
   "cell_type": "markdown",
   "metadata": {},
   "source": [
    "6) Now we play the games of two people. We take the product of the two dice. Whoever get more number wins. What is the probability of getting a draw."
   ]
  },
  {
   "cell_type": "code",
   "execution_count": 64,
   "metadata": {
    "ExecuteTime": {
     "end_time": "2021-02-19T07:24:41.900650Z",
     "start_time": "2021-02-19T07:24:41.853661Z"
    }
   },
   "outputs": [
    {
     "data": {
      "text/plain": [
       "0.088"
      ]
     },
     "execution_count": 64,
     "metadata": {},
     "output_type": "execute_result"
    }
   ],
   "source": [
    "gp = [gacha()*gacha()  == gacha()*gacha()  for i in range(10000)]\n",
    "sum(gp)/len(gp)"
   ]
  },
  {
   "cell_type": "markdown",
   "metadata": {},
   "source": [
    "7) A little bit harder: consider the game of product dice. If our first dice is 3, what is the probability of winning?"
   ]
  },
  {
   "cell_type": "code",
   "execution_count": 65,
   "metadata": {
    "ExecuteTime": {
     "end_time": "2021-02-19T07:25:57.257769Z",
     "start_time": "2021-02-19T07:25:57.221546Z"
    }
   },
   "outputs": [
    {
     "data": {
      "text/plain": [
       "0.5348"
      ]
     },
     "execution_count": 65,
     "metadata": {},
     "output_type": "execute_result"
    }
   ],
   "source": [
    "gp = [gacha()*gacha() < 3*gacha()  for i in range(10000)]\n",
    "sum(gp)/len(gp)"
   ]
  },
  {
   "cell_type": "markdown",
   "metadata": {},
   "source": [
    "### Geometric Brownian Motion.\n",
    "\n",
    "One popular way to simulate stock is using geometric brownian motion. Stockprice at $t+dt$ is related to the stock price at time $t$ by\n",
    "\n",
    "$$s(t+dt) = s(t) + s(t)(\\mu dt + \\epsilon\\sigma \\sqrt{dt}) $$\n",
    "\n",
    "where\n",
    "1. $\\mu$ is the mean rate of return. Typically quote as $\\%$ per year.\n",
    "2. $\\epsilon$ is a normally distributed random variable with mean 0 and variance of 1.\n",
    "3. $\\sigma$ is called volatility. It typically quoted as $\\%$ per $\\sqrt{\\text{year}}$. It represent how wildly stock can go.\n",
    "\n",
    "To use this formula, we need to make sure the unit for $t$ is correct. Normally just convert it to year\n",
    "\n",
    "All these number can be looked up from the internet (you can calculate one yourself from historical data too). \n",
    "\n",
    "Here is one example: google for aapl volatility.\n",
    "\n",
    "The funny unit of $\\sqrt{t}$ has to do with scaling behavior. You can read it in the lecture notes."
   ]
  },
  {
   "cell_type": "markdown",
   "metadata": {},
   "source": [
    "1) Given the volatility($\\sigma$) of $28\\%$ per $\\sqrt{\\text{year}}$ and mean rate of return $8.77\\%$. The stock today is 119.21$. Write a function to generate the price for tomorrow given the price today."
   ]
  },
  {
   "cell_type": "code",
   "execution_count": 10,
   "metadata": {
    "ExecuteTime": {
     "end_time": "2021-03-05T03:14:04.287057Z",
     "start_time": "2021-03-05T03:14:03.888060Z"
    }
   },
   "outputs": [],
   "source": [
    "from math import sqrt\n",
    "import numpy as np\n",
    "from matplotlib import pyplot as plt\n",
    "def stock_price_tmrw(s, mu, sigma, dt):\n",
    "    return s + s * (mu*dt + np.random.randn()*sigma*sqrt(dt))\n",
    "    "
   ]
  },
  {
   "cell_type": "markdown",
   "metadata": {},
   "source": [
    "2) Generate the price for 1 trading year(all the time we said year it actually means trading year). Have dt = 1 day. 1 Trading year is actually 252 day."
   ]
  },
  {
   "cell_type": "code",
   "execution_count": 24,
   "metadata": {
    "ExecuteTime": {
     "end_time": "2021-03-05T03:14:41.874305Z",
     "start_time": "2021-03-05T03:14:41.719256Z"
    }
   },
   "outputs": [
    {
     "data": {
      "text/plain": [
       "[<matplotlib.lines.Line2D at 0x7f9588cf26a0>]"
      ]
     },
     "execution_count": 24,
     "metadata": {},
     "output_type": "execute_result"
    },
    {
     "data": {
      "image/png": "[encoded data removed]",
      "text/plain": [
       "<Figure size 432x288 with 1 Axes>"
      ]
     },
     "metadata": {
      "image/png": {
       "height": 248,
       "width": 375
      },
      "needs_background": "light"
     },
     "output_type": "display_data"
    }
   ],
   "source": [
    "def generate_year(s, mu, sigma):\n",
    "    dt = 1/252.\n",
    "    ret = [s]\n",
    "    for i in range(252):\n",
    "        s = stock_price_tmrw(s, mu, sigma, dt)\n",
    "        ret.append(s)\n",
    "    return ret\n",
    "\n",
    "stock = generate_year(s=119.21, mu=0.0877, sigma=0.28)\n",
    "\n",
    "plt.plot(stock)"
   ]
  },
  {
   "cell_type": "markdown",
   "metadata": {},
   "source": [
    "3) What is the expected value of the stock at the end of year?"
   ]
  },
  {
   "cell_type": "code",
   "execution_count": null,
   "metadata": {},
   "outputs": [],
   "source": []
  },
  {
   "cell_type": "markdown",
   "metadata": {},
   "source": [
    "4) What is the variance of the stock at the end of the year?"
   ]
  },
  {
   "cell_type": "code",
   "execution_count": null,
   "metadata": {
    "collapsed": true
   },
   "outputs": [],
   "source": []
  },
  {
   "cell_type": "markdown",
   "metadata": {},
   "source": [
    "5) What is the probability that the price of the stock will dip below 70 at anytime of the year?"
   ]
  },
  {
   "cell_type": "code",
   "execution_count": null,
   "metadata": {},
   "outputs": [],
   "source": []
  },
  {
   "cell_type": "markdown",
   "metadata": {},
   "source": [
    "6) What is the proabability that th stock will dip below 100 and come back to 110 within a year? "
   ]
  },
  {
   "cell_type": "code",
   "execution_count": null,
   "metadata": {},
   "outputs": [],
   "source": []
  },
  {
   "cell_type": "markdown",
   "metadata": {},
   "source": [
    "7) If we buy the stock today at 119.21 dollar and our stragy is that we would sell if the stock fall more than 5 dollar or go up more than 10 dollar.\n",
    "\n",
    "7.1) What is the probability that we get to sell it?\n",
    "\n",
    "7.2) If we get to sell it what's the probability of making profit."
   ]
  },
  {
   "cell_type": "code",
   "execution_count": null,
   "metadata": {},
   "outputs": [],
   "source": []
  }
 ],
 "metadata": {
  "hide_input": false,
  "kernelspec": {
   "display_name": "Python 3",
   "language": "python",
   "name": "python3"
  },
  "language_info": {
   "codemirror_mode": {
    "name": "ipython",
    "version": 3
   },
   "file_extension": ".py",
   "mimetype": "text/x-python",
   "name": "python",
   "nbconvert_exporter": "python",
   "pygments_lexer": "ipython3",
   "version": "3.7.3"
  },
  "toc": {
   "colors": {
    "hover_highlight": "#DAA520",
    "running_highlight": "#FF0000",
    "selected_highlight": "#FFD700"
   },
   "moveMenuLeft": true,
   "nav_menu": {
    "height": "341px",
    "width": "252px"
   },
   "navigate_menu": true,
   "number_sections": false,
   "sideBar": true,
   "threshold": 4,
   "toc_cell": false,
   "toc_section_display": "block",
   "toc_window_display": false
  }
 },
 "nbformat": 4,
 "nbformat_minor": 1
}
