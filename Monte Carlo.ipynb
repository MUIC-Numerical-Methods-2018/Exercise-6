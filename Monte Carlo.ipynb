{
 "cells": [
  {
   "cell_type": "markdown",
   "metadata": {},
   "source": [
    "## Pseudo Random Number Generator\n",
    "\n",
    "Let us learn about how to generate a random number."
   ]
  },
  {
   "cell_type": "code",
   "execution_count": 17,
   "metadata": {},
   "outputs": [],
   "source": [
    "%matplotlib inline\n",
    "from matplotlib import pyplot as plt\n",
    "import numpy as np\n",
    "import math"
   ]
  },
  {
   "cell_type": "markdown",
   "metadata": {},
   "source": [
    "#### 1) Linear Congruent\n",
    "One of the easiest way to make random number is using linear congruential.\n",
    "\n",
    "$$x_{n+1} = a x_{n} + b \\mod k$$\n",
    "\n",
    "pick a random $a$ and $b$ then try."
   ]
  },
  {
   "cell_type": "code",
   "execution_count": 8,
   "metadata": {
    "ExecuteTime": {
     "end_time": "2021-10-27T06:55:44.490710Z",
     "start_time": "2021-10-27T06:55:44.446773Z"
    }
   },
   "outputs": [
    {
     "name": "stdout",
     "output_type": "stream",
     "text": [
      "4\n",
      "1\n",
      "6\n",
      "5\n",
      "3\n",
      "10\n",
      "2\n",
      "8\n",
      "9\n",
      "0\n",
      "4\n",
      "1\n",
      "6\n",
      "5\n",
      "3\n",
      "10\n",
      "2\n",
      "8\n",
      "9\n",
      "0\n",
      "4\n",
      "1\n",
      "6\n",
      "5\n",
      "3\n",
      "10\n",
      "2\n",
      "8\n",
      "9\n",
      "0\n",
      "4\n",
      "1\n",
      "6\n",
      "5\n",
      "3\n",
      "10\n",
      "2\n",
      "8\n",
      "9\n",
      "0\n",
      "4\n",
      "1\n",
      "6\n",
      "5\n",
      "3\n",
      "10\n",
      "2\n",
      "8\n",
      "9\n",
      "0\n",
      "4\n",
      "1\n",
      "6\n",
      "5\n",
      "3\n",
      "10\n",
      "2\n",
      "8\n",
      "9\n",
      "0\n",
      "4\n",
      "1\n",
      "6\n",
      "5\n",
      "3\n",
      "10\n",
      "2\n",
      "8\n",
      "9\n",
      "0\n",
      "4\n",
      "1\n",
      "6\n",
      "5\n",
      "3\n",
      "10\n",
      "2\n",
      "8\n",
      "9\n",
      "0\n",
      "4\n",
      "1\n",
      "6\n",
      "5\n",
      "3\n",
      "10\n",
      "2\n",
      "8\n",
      "9\n",
      "0\n",
      "4\n",
      "1\n",
      "6\n",
      "5\n",
      "3\n",
      "10\n",
      "2\n",
      "8\n",
      "9\n",
      "0\n"
     ]
    }
   ],
   "source": [
    "from dataclasses import dataclass\n",
    "@dataclass\n",
    "class LCG:\n",
    "    a: int\n",
    "    b: int\n",
    "    k: int\n",
    "    x: int = 0\n",
    "    def next(self):\n",
    "        self.x = (self.a*self.x + self.b)%self.k\n",
    "        return self.x\n",
    "np.random.seed(555)\n",
    "r = LCG(13, 15, 11)\n",
    "for i in range(100):\n",
    "    print(r.next())\n",
    "# cycle length ~ k ~ 2**32 2 billion\n",
    "# make k really large... (not a fix)\n",
    "# mersenne twister. <-- better 2*96 forget it..."
   ]
  },
  {
   "cell_type": "markdown",
   "metadata": {},
   "source": [
    "#### 2) Cycle Problem\n",
    "\n",
    "One of the problem with linear congruent is short cycle length. For example,\n",
    "\n",
    "$$x_{n+1} =  ax_{n} + b \\mod 11$$\n",
    "\n",
    "No matter what value you give $a$ and $b$. Your cycle length will be at most 11."
   ]
  },
  {
   "cell_type": "code",
   "execution_count": null,
   "metadata": {
    "collapsed": true
   },
   "outputs": [],
   "source": []
  },
  {
   "cell_type": "markdown",
   "metadata": {},
   "source": [
    "#### 3) Fixing Cycle problem\n",
    "\n",
    "One way to do it is to generate it with a better cycle and then mod 11."
   ]
  },
  {
   "cell_type": "code",
   "execution_count": null,
   "metadata": {
    "collapsed": true
   },
   "outputs": [],
   "source": []
  },
  {
   "cell_type": "markdown",
   "metadata": {},
   "source": [
    "#### 4) Some available random number from numpy/python\n",
    "\n",
    "`np.random.random` for random a float uniformly between 0 and 1.\n",
    "\n",
    "`np.random.randint` for random integer uniformly in some range.\n",
    "\n",
    "`np.random.randn` for random float from normal distribution with mean 0 and standard deviation 1."
   ]
  },
  {
   "cell_type": "code",
   "execution_count": 18,
   "metadata": {
    "ExecuteTime": {
     "end_time": "2021-10-27T07:05:50.884492Z",
     "start_time": "2021-10-27T07:05:50.055745Z"
    }
   },
   "outputs": [
    {
     "data": {
      "text/plain": [
       "(array([ 2.,  0.,  0.,  1.,  0.,  1.,  0.,  2.,  2.,  0.,  2.,  1.,  5.,\n",
       "         1.,  1.,  5.,  3.,  1.,  5.,  3.,  9.,  9.,  3.,  4.,  9., 16.,\n",
       "        10.,  9., 18., 16., 19., 14., 17., 16., 16., 16., 17., 22., 24.,\n",
       "        22., 23., 21., 18., 32., 34., 28., 26., 20., 30., 24., 21., 14.,\n",
       "        18., 34., 19., 27., 15., 27., 25., 27., 12., 17., 13., 18., 15.,\n",
       "        18., 16., 14.,  5.,  6.,  6.,  4.,  8.,  4.,  4.,  5.,  7.,  2.,\n",
       "         5.,  2.,  4.,  0.,  3.,  0.,  0.,  0.,  2.,  0.,  0.,  1.,  1.,\n",
       "         0.,  1.,  1.,  0.,  0.,  0.,  0.,  1.,  1.]),\n",
       " array([-3.0211792 , -2.9571573 , -2.89313539, -2.82911349, -2.76509159,\n",
       "        -2.70106969, -2.63704779, -2.57302588, -2.50900398, -2.44498208,\n",
       "        -2.38096018, -2.31693828, -2.25291638, -2.18889447, -2.12487257,\n",
       "        -2.06085067, -1.99682877, -1.93280687, -1.86878496, -1.80476306,\n",
       "        -1.74074116, -1.67671926, -1.61269736, -1.54867546, -1.48465355,\n",
       "        -1.42063165, -1.35660975, -1.29258785, -1.22856595, -1.16454404,\n",
       "        -1.10052214, -1.03650024, -0.97247834, -0.90845644, -0.84443454,\n",
       "        -0.78041263, -0.71639073, -0.65236883, -0.58834693, -0.52432503,\n",
       "        -0.46030313, -0.39628122, -0.33225932, -0.26823742, -0.20421552,\n",
       "        -0.14019362, -0.07617171, -0.01214981,  0.05187209,  0.11589399,\n",
       "         0.17991589,  0.24393779,  0.3079597 ,  0.3719816 ,  0.4360035 ,\n",
       "         0.5000254 ,  0.5640473 ,  0.62806921,  0.69209111,  0.75611301,\n",
       "         0.82013491,  0.88415681,  0.94817871,  1.01220062,  1.07622252,\n",
       "         1.14024442,  1.20426632,  1.26828822,  1.33231013,  1.39633203,\n",
       "         1.46035393,  1.52437583,  1.58839773,  1.65241963,  1.71644154,\n",
       "         1.78046344,  1.84448534,  1.90850724,  1.97252914,  2.03655104,\n",
       "         2.10057295,  2.16459485,  2.22861675,  2.29263865,  2.35666055,\n",
       "         2.42068246,  2.48470436,  2.54872626,  2.61274816,  2.67677006,\n",
       "         2.74079196,  2.80481387,  2.86883577,  2.93285767,  2.99687957,\n",
       "         3.06090147,  3.12492338,  3.18894528,  3.25296718,  3.31698908,\n",
       "         3.38101098]),\n",
       " <BarContainer object of 100 artists>)"
      ]
     },
     "execution_count": 18,
     "metadata": {},
     "output_type": "execute_result"
    },
    {
     "data": {
      "image/png": "[encoded data removed]",
      "text/plain": [
       "<Figure size 432x288 with 1 Axes>"
      ]
     },
     "metadata": {
      "image/png": {
       "height": 248,
       "width": 369
      },
      "needs_background": "light"
     },
     "output_type": "display_data"
    }
   ],
   "source": [
    "import numpy as np\n",
    "from matplotlib import pyplot as plt\n",
    "np.random.random()\n",
    "\n",
    "xs = [np.random.randn() for x in range(1000)]\n",
    "plt.hist(xs, bins=100)"
   ]
  },
  {
   "cell_type": "markdown",
   "metadata": {},
   "source": [
    "#### 5) Manipulating random number to get desired behavior.\n",
    "\n",
    "Random a float from 0 to 5.\n",
    "\n",
    "Random a float from -1 to 1.\n",
    "\n",
    "Random a float form normal distribution with mean 5 and std dev 1.\n",
    "\n",
    "Random a float form normal distribution with mean 2 and std dev 10."
   ]
  },
  {
   "cell_type": "code",
   "execution_count": 24,
   "metadata": {
    "ExecuteTime": {
     "end_time": "2021-10-27T07:09:42.627224Z",
     "start_time": "2021-10-27T07:09:42.205739Z"
    }
   },
   "outputs": [
    {
     "data": {
      "image/png": "[encoded data removed]",
      "text/plain": [
       "<Figure size 432x288 with 1 Axes>"
      ]
     },
     "metadata": {
      "image/png": {
       "height": 248,
       "width": 375
      },
      "needs_background": "light"
     },
     "output_type": "display_data"
    }
   ],
   "source": [
    "xs = [np.random.random()*2 - 1 for x in range(10000)]\n",
    "plt.hist(xs, bins=100);"
   ]
  },
  {
   "cell_type": "markdown",
   "metadata": {},
   "source": [
    "6) What does np.random.seed do?"
   ]
  },
  {
   "cell_type": "code",
   "execution_count": 30,
   "metadata": {
    "ExecuteTime": {
     "end_time": "2021-10-27T07:12:24.687422Z",
     "start_time": "2021-10-27T07:12:24.342143Z"
    }
   },
   "outputs": [
    {
     "data": {
      "image/png": "[encoded data removed]",
      "text/plain": [
       "<Figure size 432x288 with 1 Axes>"
      ]
     },
     "metadata": {
      "image/png": {
       "height": 248,
       "width": 375
      },
      "needs_background": "light"
     },
     "output_type": "display_data"
    }
   ],
   "source": [
    "xs = [np.random.randn()*10 + 2 for x in range(10000)]\n",
    "plt.hist(xs, bins=100);"
   ]
  },
  {
   "cell_type": "markdown",
   "metadata": {},
   "source": [
    "### Monte Carlo Integration"
   ]
  },
  {
   "cell_type": "code",
   "execution_count": 36,
   "metadata": {
    "ExecuteTime": {
     "end_time": "2021-10-27T07:21:12.851788Z",
     "start_time": "2021-10-27T07:21:06.946041Z"
    }
   },
   "outputs": [
    {
     "name": "stdout",
     "output_type": "stream",
     "text": [
      "3.14098\n"
     ]
    }
   ],
   "source": [
    "def gen_point():\n",
    "    # point in (-1, 1) x (-1, 1)\n",
    "    return np.random.random()*2 - 1, np.random.random()*2 - 1\n",
    "total = 3000000\n",
    "points = [gen_point() for i in range(total)]\n",
    "inside = 0\n",
    "outside = 0\n",
    "for point in points:\n",
    "    x, y = point\n",
    "    if x**2 + y**2 < 1: # inside circle center at 0 radius 1\n",
    "        inside += 1\n",
    "\n",
    "print(inside/total*4)"
   ]
  },
  {
   "cell_type": "markdown",
   "metadata": {},
   "source": [
    "#### 1) Let integrate\n",
    "$$ \\iiint \\limits_{C} x^2(y-1)^2(z-2)^2\\exp(xyz) \\; dx \\; dy \\; dz$$\n",
    "Over a cube $x \\in [-1,1], y\\in [-1,1], z\\in [-1,1]$"
   ]
  },
  {
   "cell_type": "code",
   "execution_count": 50,
   "metadata": {
    "ExecuteTime": {
     "end_time": "2021-10-27T07:37:18.562301Z",
     "start_time": "2021-10-27T07:37:18.171541Z"
    }
   },
   "outputs": [
    {
     "name": "stdout",
     "output_type": "stream",
     "text": [
      "16.085975479652433\n"
     ]
    }
   ],
   "source": [
    "#np.random.seed(2200)\n",
    "\n",
    "def gen_point():\n",
    "    return np.random.random()*2 - 1, np.random.random()*2 - 1, np.random.random()*2 - 1\n",
    "\n",
    "def f(x, y, z):\n",
    "    return x**2 * (y-1)**2 * (z-2)**2 * np.exp(x*y*z)\n",
    "\n",
    "s = 0\n",
    "m = 100000\n",
    "for i in range(m):\n",
    "    x, y, z = gen_point()\n",
    "    s += f(x, y, z)\n",
    "print(s/m*8)"
   ]
  },
  {
   "cell_type": "markdown",
   "metadata": {},
   "source": [
    "#### 2) Evaluate\n",
    "$$ \\iiint \\limits_{C} x^2(y-1)^2(z-2)^2\\exp(xyz) \\; dx \\; dy \\; dz$$\n",
    "Over a sphere of radius 1 centered at the origin."
   ]
  },
  {
   "cell_type": "code",
   "execution_count": 51,
   "metadata": {
    "ExecuteTime": {
     "end_time": "2021-10-27T07:57:21.311930Z",
     "start_time": "2021-10-27T07:57:20.805726Z"
    }
   },
   "outputs": [
    {
     "name": "stdout",
     "output_type": "stream",
     "text": [
      "3.944962473581795\n"
     ]
    }
   ],
   "source": [
    "#np.random.seed(2200)\n",
    "\n",
    "def gen_point():\n",
    "    return np.random.random()*2 - 1, np.random.random()*2 - 1, np.random.random()*2 - 1\n",
    "\n",
    "def f(x, y, z):\n",
    "    return x**2 * (y-1)**2 * (z-2)**2 * np.exp(x*y*z)\n",
    "\n",
    "def g(x, y, z):\n",
    "    if x**2 + y**2 + z**2 < 1: #inside:\n",
    "        return f(x,y,z)\n",
    "    else: \n",
    "        return 0\n",
    "\n",
    "s = 0\n",
    "m = 100000\n",
    "for i in range(m):\n",
    "    x, y, z = gen_point()\n",
    "    s += g(x, y, z)\n",
    "print(s/m*8)"
   ]
  },
  {
   "cell_type": "markdown",
   "metadata": {},
   "source": [
    "3) Do we guarantee to get the same answer when we repeat the experiment?"
   ]
  },
  {
   "cell_type": "code",
   "execution_count": null,
   "metadata": {
    "collapsed": true
   },
   "outputs": [],
   "source": []
  },
  {
   "cell_type": "markdown",
   "metadata": {},
   "source": [
    "4) What do we need to do to guarantee the same answer?"
   ]
  },
  {
   "cell_type": "code",
   "execution_count": null,
   "metadata": {},
   "outputs": [],
   "source": []
  },
  {
   "cell_type": "markdown",
   "metadata": {},
   "source": [
    "5) How do we defind the convergence and how fast is the convergence for monte carlo integration?"
   ]
  },
  {
   "cell_type": "code",
   "execution_count": null,
   "metadata": {
    "collapsed": true
   },
   "outputs": [],
   "source": []
  },
  {
   "cell_type": "markdown",
   "metadata": {},
   "source": [
    "## Monte Carlo Simulations"
   ]
  },
  {
   "cell_type": "markdown",
   "metadata": {},
   "source": [
    "### Loaded Die.\n",
    "\n",
    "<table>\n",
    "<tr style=\"text-align:center\">\n",
    "    <td>Number</td>\n",
    "    <td>1</td>\n",
    "    <td>2</td>\n",
    "    <td>3</td>\n",
    "    <td>4</td>\n",
    "    <td>5</td>\n",
    "    <td>6</td>\n",
    "</tr>\n",
    "<tr style=\"text-align:center\">\n",
    "    <td>Probability</td>\n",
    "    <td>0.3</td>\n",
    "    <td>0.2</td>\n",
    "    <td>0.1</td>\n",
    "    <td>0.2</td>\n",
    "    <td>0.1</td>\n",
    "    <td>0.1</td>\n",
    "</tr>\n",
    "</table>"
   ]
  },
  {
   "cell_type": "markdown",
   "metadata": {},
   "source": [
    "#### 1) Simulating the dice.\n",
    "\n",
    "Simulate the dice result such that it has the given probability distribution."
   ]
  },
  {
   "cell_type": "code",
   "execution_count": null,
   "metadata": {},
   "outputs": [],
   "source": []
  },
  {
   "cell_type": "markdown",
   "metadata": {},
   "source": [
    "#### 2) Expected Value.\n",
    "\n",
    "What is the expected value of dice result? Try both simulation and analytical formula."
   ]
  },
  {
   "cell_type": "code",
   "execution_count": null,
   "metadata": {},
   "outputs": [],
   "source": []
  },
  {
   "cell_type": "markdown",
   "metadata": {},
   "source": [
    "3) What is the expected value of $A+B$ where $A$ is the result of the first dice and $B$ is the result of the second dice? Use simulation and compare with analytic answer."
   ]
  },
  {
   "cell_type": "code",
   "execution_count": null,
   "metadata": {},
   "outputs": [],
   "source": []
  },
  {
   "cell_type": "markdown",
   "metadata": {},
   "source": [
    "4) What is the expected value of $AB$?"
   ]
  },
  {
   "cell_type": "code",
   "execution_count": null,
   "metadata": {},
   "outputs": [],
   "source": []
  },
  {
   "cell_type": "markdown",
   "metadata": {},
   "source": [
    "5) Try the experiment 10,000 times and plot out the probability of getting each result for $AB$. (Probability is given by #of times we get the number/total number of experiment."
   ]
  },
  {
   "cell_type": "code",
   "execution_count": null,
   "metadata": {},
   "outputs": [],
   "source": []
  },
  {
   "cell_type": "markdown",
   "metadata": {},
   "source": [
    "6) Now we play the games of two people. We take the product of the two dice. Whoever get more number wins. What is the probability of getting a draw."
   ]
  },
  {
   "cell_type": "code",
   "execution_count": null,
   "metadata": {},
   "outputs": [],
   "source": []
  },
  {
   "cell_type": "markdown",
   "metadata": {},
   "source": [
    "7) A little bit harder: consider the game of product dice. If our first dice is 3, what is the probability of winning?"
   ]
  },
  {
   "cell_type": "code",
   "execution_count": null,
   "metadata": {},
   "outputs": [],
   "source": []
  },
  {
   "cell_type": "markdown",
   "metadata": {},
   "source": [
    "### Geometric Brownian Motion.\n",
    "\n",
    "One popular way to simulate stock is using geometric brownian motion. Stockprice at $t+dt$ is related to the stock price at time $t$ by\n",
    "\n",
    "$$s(t+dt) = s(t) + s(t)(\\mu dt + \\epsilon\\sigma \\sqrt{dt}) $$\n",
    "\n",
    "where\n",
    "1. $\\mu$ is the mean rate of return. Typically quote as $\\%$ per year.\n",
    "2. $\\epsilon$ is a normally distributed random variable with mean 0 and variance of 1.\n",
    "3. $\\sigma$ is called volatility. It typically quoted as $\\%$ per $\\sqrt{\\text{year}}$. It represent how wildly stock can go.\n",
    "\n",
    "To use this formula, we need to make sure the unit for $t$ is correct. Normally just convert it to year\n",
    "\n",
    "All these number can be looked up from the internet (you can calculate one yourself from historical data too). \n",
    "\n",
    "Here is one example: google for aapl volatility.\n",
    "\n",
    "The funny unit of $\\sqrt{t}$ has to do with scaling behavior. You can read it in the lecture notes."
   ]
  },
  {
   "cell_type": "markdown",
   "metadata": {},
   "source": [
    "1) Given the volatility($\\sigma$) of $28\\%$ per $\\sqrt{\\text{year}}$ and mean rate of return $8.77\\%$. The stock today is 119.21$. Write a function to generate the price for tomorrow given the price today."
   ]
  },
  {
   "cell_type": "code",
   "execution_count": null,
   "metadata": {},
   "outputs": [],
   "source": []
  },
  {
   "cell_type": "markdown",
   "metadata": {},
   "source": [
    "2) Generate the price for 1 trading year(all the time we said year it actually means trading year). Have dt = 1 day. 1 Trading year is actually 252 day."
   ]
  },
  {
   "cell_type": "code",
   "execution_count": null,
   "metadata": {},
   "outputs": [],
   "source": []
  },
  {
   "cell_type": "markdown",
   "metadata": {},
   "source": [
    "3) What is the expected value of the stock at the end of year?"
   ]
  },
  {
   "cell_type": "code",
   "execution_count": null,
   "metadata": {},
   "outputs": [],
   "source": []
  },
  {
   "cell_type": "markdown",
   "metadata": {},
   "source": [
    "4) What is the variance of the stock at the end of the year?"
   ]
  },
  {
   "cell_type": "code",
   "execution_count": null,
   "metadata": {
    "collapsed": true
   },
   "outputs": [],
   "source": []
  },
  {
   "cell_type": "markdown",
   "metadata": {},
   "source": [
    "5) What is the probability that the price of the stock will dip below 70 at anytime of the year?"
   ]
  },
  {
   "cell_type": "code",
   "execution_count": null,
   "metadata": {},
   "outputs": [],
   "source": []
  },
  {
   "cell_type": "markdown",
   "metadata": {},
   "source": [
    "6) What is the proabability that th stock will dip below 100 and come back to 110 within a year? "
   ]
  },
  {
   "cell_type": "code",
   "execution_count": null,
   "metadata": {},
   "outputs": [],
   "source": []
  },
  {
   "cell_type": "markdown",
   "metadata": {},
   "source": [
    "7) If we buy the stock today at 119.21 dollar and our stragy is that we would sell if the stock fall more than 5 dollar or go up more than 10 dollar.\n",
    "\n",
    "7.1) What is the probability that we get to sell it?\n",
    "\n",
    "7.2) If we get to sell it what's the probability of making profit."
   ]
  },
  {
   "cell_type": "code",
   "execution_count": null,
   "metadata": {},
   "outputs": [],
   "source": []
  }
 ],
 "metadata": {
  "hide_input": false,
  "kernelspec": {
   "display_name": "Python 3",
   "language": "python",
   "name": "python3"
  },
  "language_info": {
   "codemirror_mode": {
    "name": "ipython",
    "version": 3
   },
   "file_extension": ".py",
   "mimetype": "text/x-python",
   "name": "python",
   "nbconvert_exporter": "python",
   "pygments_lexer": "ipython3",
   "version": "3.7.3"
  },
  "toc": {
   "colors": {
    "hover_highlight": "#DAA520",
    "running_highlight": "#FF0000",
    "selected_highlight": "#FFD700"
   },
   "moveMenuLeft": true,
   "nav_menu": {
    "height": "341px",
    "width": "252px"
   },
   "navigate_menu": true,
   "number_sections": false,
   "sideBar": true,
   "threshold": 4,
   "toc_cell": false,
   "toc_section_display": "block",
   "toc_window_display": false
  }
 },
 "nbformat": 4,
 "nbformat_minor": 1
}
